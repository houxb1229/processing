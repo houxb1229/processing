{
 "cells": [
  {
   "cell_type": "code",
   "execution_count": 2,
   "id": "b08c5abe-2d47-4667-8841-00e037746a1f",
   "metadata": {},
   "outputs": [],
   "source": [
    "import akshare as ak\n",
    "import pandas as pd"
   ]
  },
  {
   "cell_type": "code",
   "execution_count": 9,
   "id": "bf57ee76-fb67-460f-8e86-dae6e007ea11",
   "metadata": {},
   "outputs": [],
   "source": [
    "code = '600746'\n",
    "stock = ak.stock_zh_a_hist(symbol=code, \n",
    "                        period=\"daily\",\n",
    "                        start_date=\"20231001\",\n",
    "                        end_date='20250325', \n",
    "                        adjust=\"\")"
   ]
  },
  {
   "cell_type": "code",
   "execution_count": 10,
   "id": "b52b950c-d704-459f-bcc2-4d7b0f386477",
   "metadata": {},
   "outputs": [
    {
     "data": {
      "text/html": [
       "<div>\n",
       "<style scoped>\n",
       "    .dataframe tbody tr th:only-of-type {\n",
       "        vertical-align: middle;\n",
       "    }\n",
       "\n",
       "    .dataframe tbody tr th {\n",
       "        vertical-align: top;\n",
       "    }\n",
       "\n",
       "    .dataframe thead th {\n",
       "        text-align: right;\n",
       "    }\n",
       "</style>\n",
       "<table border=\"1\" class=\"dataframe\">\n",
       "  <thead>\n",
       "    <tr style=\"text-align: right;\">\n",
       "      <th></th>\n",
       "      <th>日期</th>\n",
       "      <th>股票代码</th>\n",
       "      <th>开盘</th>\n",
       "      <th>收盘</th>\n",
       "      <th>最高</th>\n",
       "      <th>最低</th>\n",
       "      <th>成交量</th>\n",
       "      <th>振幅</th>\n",
       "      <th>涨跌幅</th>\n",
       "      <th>涨跌额</th>\n",
       "      <th>MA10</th>\n",
       "      <th>MA25</th>\n",
       "      <th>V5</th>\n",
       "      <th>V60</th>\n",
       "    </tr>\n",
       "  </thead>\n",
       "  <tbody>\n",
       "    <tr>\n",
       "      <th>352</th>\n",
       "      <td>2025-03-21</td>\n",
       "      <td>600746</td>\n",
       "      <td>7.36</td>\n",
       "      <td>7.35</td>\n",
       "      <td>7.46</td>\n",
       "      <td>7.33</td>\n",
       "      <td>37383</td>\n",
       "      <td>1.76</td>\n",
       "      <td>-0.54</td>\n",
       "      <td>-0.04</td>\n",
       "      <td>7.438</td>\n",
       "      <td>7.3212</td>\n",
       "      <td>36567.4</td>\n",
       "      <td>44010.633333</td>\n",
       "    </tr>\n",
       "    <tr>\n",
       "      <th>353</th>\n",
       "      <td>2025-03-24</td>\n",
       "      <td>600746</td>\n",
       "      <td>7.31</td>\n",
       "      <td>7.39</td>\n",
       "      <td>7.42</td>\n",
       "      <td>7.28</td>\n",
       "      <td>46524</td>\n",
       "      <td>1.90</td>\n",
       "      <td>0.54</td>\n",
       "      <td>0.04</td>\n",
       "      <td>7.436</td>\n",
       "      <td>7.3276</td>\n",
       "      <td>37260.2</td>\n",
       "      <td>44084.516667</td>\n",
       "    </tr>\n",
       "    <tr>\n",
       "      <th>354</th>\n",
       "      <td>2025-03-25</td>\n",
       "      <td>600746</td>\n",
       "      <td>7.36</td>\n",
       "      <td>7.69</td>\n",
       "      <td>7.77</td>\n",
       "      <td>7.36</td>\n",
       "      <td>169363</td>\n",
       "      <td>5.55</td>\n",
       "      <td>4.06</td>\n",
       "      <td>0.30</td>\n",
       "      <td>7.457</td>\n",
       "      <td>7.3504</td>\n",
       "      <td>63918.6</td>\n",
       "      <td>46305.750000</td>\n",
       "    </tr>\n",
       "  </tbody>\n",
       "</table>\n",
       "</div>"
      ],
      "text/plain": [
       "             日期    股票代码    开盘    收盘    最高    最低     成交量    振幅   涨跌幅   涨跌额  \\\n",
       "352  2025-03-21  600746  7.36  7.35  7.46  7.33   37383  1.76 -0.54 -0.04   \n",
       "353  2025-03-24  600746  7.31  7.39  7.42  7.28   46524  1.90  0.54  0.04   \n",
       "354  2025-03-25  600746  7.36  7.69  7.77  7.36  169363  5.55  4.06  0.30   \n",
       "\n",
       "      MA10    MA25       V5           V60  \n",
       "352  7.438  7.3212  36567.4  44010.633333  \n",
       "353  7.436  7.3276  37260.2  44084.516667  \n",
       "354  7.457  7.3504  63918.6  46305.750000  "
      ]
     },
     "execution_count": 10,
     "metadata": {},
     "output_type": "execute_result"
    }
   ],
   "source": [
    "stock['MA10'] = stock['收盘'].rolling(window=10).mean()\n",
    "stock['MA25'] = stock['收盘'].rolling(window=25).mean()\n",
    "stock['V5'] = stock['成交量'].rolling(window=5).mean()\n",
    "stock['V60'] = stock['成交量'].rolling(window=60).mean()\n",
    "stock = stock[['日期','股票代码','开盘','收盘','最高','最低','成交量','振幅','涨跌幅','涨跌额','MA10','MA25','V5','V60']]\n",
    "stock.tail(3)"
   ]
  },
  {
   "cell_type": "code",
   "execution_count": 11,
   "id": "822b8a0f-a609-4a6d-b63d-a96dcea9e1ab",
   "metadata": {},
   "outputs": [],
   "source": [
    "df = stock.copy()"
   ]
  },
  {
   "cell_type": "code",
   "execution_count": 12,
   "id": "43c76e37-e9f5-46a7-b251-f64a9236578d",
   "metadata": {},
   "outputs": [],
   "source": [
    "# 入场买点\n",
    "def buy(df):\n",
    "    buy = []\n",
    "    for i in range(65,len(df)-1):\n",
    "        if all ([df['开盘'][i] < df['MA25'][i],\\\n",
    "                df['收盘'][i] > df['MA25'][i],\\\n",
    "                df['MA25'][i] > df['MA25'][i-5],\\\n",
    "                df['V5'][i]> df['V60'][i]]):\n",
    "            buy.append(i)\n",
    "        else:\n",
    "            continue\n",
    "    return buy"
   ]
  },
  {
   "cell_type": "code",
   "execution_count": 13,
   "id": "ed69a12a-5e83-47c6-979a-1e57ca2e595f",
   "metadata": {},
   "outputs": [],
   "source": [
    "def sale(b):\n",
    "    b_high = df['收盘'][b]*1.1 #盈利线\n",
    "    b_low = df['最低'][b]*0.99 #止损线\n",
    "    for w in range(b+1,len(df)):\n",
    "        # 收盘价达到盈利线\n",
    "        if df['最高'][w]>b_high:\n",
    "            s = w\n",
    "            b_high = df['最高'][w]\n",
    "            b_low = (df['最高'][w]-df['收盘'][b])*0.7+df['收盘'][b]\n",
    "            continue\n",
    "        # 跌破止损价，卖出\n",
    "        elif all([df['收盘'][w]<b_low,\\\n",
    "                 df['涨跌幅'][w]<-5,]):\n",
    "            s = w\n",
    "            break\n",
    "        elif all([df['收盘'][w]<b_low,\\\n",
    "                 df['涨跌幅'][w]<-0.5,\\\n",
    "                 df['收盘'][w]<df['MA10'][w]]):\n",
    "            s = w\n",
    "            break\n",
    "        else:\n",
    "            s = w\n",
    "            continue\n",
    "    return s  "
   ]
  },
  {
   "cell_type": "code",
   "execution_count": 14,
   "id": "412db70c-90a6-421d-9164-c2699558f8ea",
   "metadata": {},
   "outputs": [
    {
     "name": "stdout",
     "output_type": "stream",
     "text": [
      "[128, 129, 134, 136, 223, 224, 275]\n",
      "买入： 2024-04-17 | 6.49 | 1500.0 | 265.0\n",
      "买出： 2024-05-16 | 7.14 | 0     | 10975.0\n",
      "买入： 2024-09-03 | 6.19 | 1700.0 | 452.0\n",
      "买出： 2024-10-09 | 6.9 | 0     | 12182.0\n",
      "买入： 2024-11-25 | 7.29 | 1600.0 | 518.0\n",
      "买出： 2024-12-31 | 7.01 | 0     | 11734.0\n"
     ]
    }
   ],
   "source": [
    "# 交易回测\n",
    "money = 10000\n",
    "b_dt = buy(df)\n",
    "print(b_dt)\n",
    "if not b_dt:\n",
    "    print('无符合条件指标，请更换股票')\n",
    "else:\n",
    "    s_date = df['日期'][1]\n",
    "    for k in range(len(b_dt)):\n",
    "        b = b_dt[k]\n",
    "        if df['日期'][b]>s_date:\n",
    "            #print(str(df['日期'][b]) + ' | ' + str(df['CCI'][b]))\n",
    "            b_sym = float(((money/df['收盘'][b])//100)*100)\n",
    "            money = money-(b_sym*df['收盘'][b])\n",
    "            print('买入： '+ str(df['日期'][b]) + ' | ' + str(df['收盘'][b]) + ' | ' + str(b_sym) + ' | ' + str(money))\n",
    "            s = sale(b)\n",
    "            money = money+(b_sym*df['收盘'][s])\n",
    "            b_sym = 0\n",
    "            s_date = df['日期'][s]\n",
    "            print('买出： '+ str(df['日期'][s]) + ' | ' + str(df['收盘'][s]) + ' | '+ str(b_sym) + '     | ' + str(money))\n",
    "        else:\n",
    "            continue"
   ]
  },
  {
   "cell_type": "markdown",
   "id": "31b679a9-e0cd-4c41-95ce-d7783af6ec7c",
   "metadata": {},
   "source": [
    "##### "
   ]
  },
  {
   "cell_type": "code",
   "execution_count": null,
   "id": "b22ab48a-3120-4fa5-be68-f0d26e22197d",
   "metadata": {},
   "outputs": [],
   "source": []
  }
 ],
 "metadata": {
  "kernelspec": {
   "display_name": "Python 3 (ipykernel)",
   "language": "python",
   "name": "python3"
  },
  "language_info": {
   "codemirror_mode": {
    "name": "ipython",
    "version": 3
   },
   "file_extension": ".py",
   "mimetype": "text/x-python",
   "name": "python",
   "nbconvert_exporter": "python",
   "pygments_lexer": "ipython3",
   "version": "3.13.0"
  }
 },
 "nbformat": 4,
 "nbformat_minor": 5
}
