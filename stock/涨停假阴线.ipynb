{
 "cells": [
  {
   "cell_type": "markdown",
   "id": "476ee75a-e2d3-44bd-b76b-e98932845a29",
   "metadata": {},
   "source": [
    "涨停假阴线\n",
    "涨停次日开盘价小于收盘价，且收盘价大于昨日涨停价\n",
    "1. 连板数小于5板\n",
    "2. 放量换手板\n",
    "3. 涨停次日收假阴线\n",
    "4. 假阴后股价能站在5日线上\n",
    "5. 两日内突破假阴线\n",
    "6. 突破假阴线上车，回踩5日可加码"
   ]
  },
  {
   "cell_type": "code",
   "execution_count": 1,
   "id": "b08c5abe-2d47-4667-8841-00e037746a1f",
   "metadata": {},
   "outputs": [],
   "source": [
    "import akshare as ak\n",
    "import pandas as pd"
   ]
  },
  {
   "cell_type": "code",
   "execution_count": 32,
   "id": "bf57ee76-fb67-460f-8e86-dae6e007ea11",
   "metadata": {},
   "outputs": [],
   "source": [
    "code = '603366'\n",
    "stock = ak.stock_zh_a_hist(symbol=code, \n",
    "                        period=\"daily\",\n",
    "                        start_date=\"20231001\",\n",
    "                        end_date='20250325', \n",
    "                        adjust=\"\")"
   ]
  },
  {
   "cell_type": "code",
   "execution_count": 33,
   "id": "b52b950c-d704-459f-bcc2-4d7b0f386477",
   "metadata": {},
   "outputs": [
    {
     "data": {
      "text/html": [
       "<div>\n",
       "<style scoped>\n",
       "    .dataframe tbody tr th:only-of-type {\n",
       "        vertical-align: middle;\n",
       "    }\n",
       "\n",
       "    .dataframe tbody tr th {\n",
       "        vertical-align: top;\n",
       "    }\n",
       "\n",
       "    .dataframe thead th {\n",
       "        text-align: right;\n",
       "    }\n",
       "</style>\n",
       "<table border=\"1\" class=\"dataframe\">\n",
       "  <thead>\n",
       "    <tr style=\"text-align: right;\">\n",
       "      <th></th>\n",
       "      <th>日期</th>\n",
       "      <th>股票代码</th>\n",
       "      <th>开盘</th>\n",
       "      <th>收盘</th>\n",
       "      <th>最高</th>\n",
       "      <th>最低</th>\n",
       "      <th>成交量</th>\n",
       "      <th>振幅</th>\n",
       "      <th>涨跌幅</th>\n",
       "      <th>涨跌额</th>\n",
       "      <th>MA5</th>\n",
       "      <th>MA10</th>\n",
       "      <th>MA25</th>\n",
       "      <th>ZA5</th>\n",
       "    </tr>\n",
       "  </thead>\n",
       "  <tbody>\n",
       "    <tr>\n",
       "      <th>0</th>\n",
       "      <td>2023-10-09</td>\n",
       "      <td>603366</td>\n",
       "      <td>5.91</td>\n",
       "      <td>5.88</td>\n",
       "      <td>6.02</td>\n",
       "      <td>5.84</td>\n",
       "      <td>156077</td>\n",
       "      <td>3.03</td>\n",
       "      <td>-1.01</td>\n",
       "      <td>-0.06</td>\n",
       "      <td>NaN</td>\n",
       "      <td>NaN</td>\n",
       "      <td>NaN</td>\n",
       "      <td>NaN</td>\n",
       "    </tr>\n",
       "    <tr>\n",
       "      <th>1</th>\n",
       "      <td>2023-10-10</td>\n",
       "      <td>603366</td>\n",
       "      <td>5.88</td>\n",
       "      <td>5.74</td>\n",
       "      <td>5.92</td>\n",
       "      <td>5.72</td>\n",
       "      <td>127046</td>\n",
       "      <td>3.40</td>\n",
       "      <td>-2.38</td>\n",
       "      <td>-0.14</td>\n",
       "      <td>NaN</td>\n",
       "      <td>NaN</td>\n",
       "      <td>NaN</td>\n",
       "      <td>NaN</td>\n",
       "    </tr>\n",
       "  </tbody>\n",
       "</table>\n",
       "</div>"
      ],
      "text/plain": [
       "           日期    股票代码    开盘    收盘    最高    最低     成交量    振幅   涨跌幅   涨跌额  MA5  \\\n",
       "0  2023-10-09  603366  5.91  5.88  6.02  5.84  156077  3.03 -1.01 -0.06  NaN   \n",
       "1  2023-10-10  603366  5.88  5.74  5.92  5.72  127046  3.40 -2.38 -0.14  NaN   \n",
       "\n",
       "   MA10  MA25  ZA5  \n",
       "0   NaN   NaN  NaN  \n",
       "1   NaN   NaN  NaN  "
      ]
     },
     "execution_count": 33,
     "metadata": {},
     "output_type": "execute_result"
    }
   ],
   "source": [
    "stock['MA5'] = stock['收盘'].rolling(window=5).mean()\n",
    "stock['ZA5'] = stock['涨跌幅'].rolling(window=5).mean()\n",
    "stock['MA10'] = stock['收盘'].rolling(window=10).mean()\n",
    "stock['MA25'] = stock['收盘'].rolling(window=25).mean()\n",
    "stock = stock[['日期','股票代码','开盘','收盘','最高','最低','成交量','振幅','涨跌幅','涨跌额','MA5','MA10','MA25','ZA5']]\n",
    "stock.head(2)"
   ]
  },
  {
   "cell_type": "code",
   "execution_count": 34,
   "id": "822b8a0f-a609-4a6d-b63d-a96dcea9e1ab",
   "metadata": {},
   "outputs": [],
   "source": [
    "df = stock.copy()"
   ]
  },
  {
   "cell_type": "code",
   "execution_count": 38,
   "id": "43c76e37-e9f5-46a7-b251-f64a9236578d",
   "metadata": {},
   "outputs": [],
   "source": [
    "# 入场买点\n",
    "def buy(df):\n",
    "    buy = []\n",
    "    for i in range(30,len(df)-1):\n",
    "        if all ([df['开盘'][i] > df['收盘'][i],\\\n",
    "                df['收盘'][i] > df['收盘'][i-1],\\\n",
    "                df['涨跌幅'][i-1] > 9.9,\\\n",
    "                df['ZA5'][i-1]>5,\\\n",
    "                df['ZA5'][i-1]<9.8]):\n",
    "            if all([df['收盘'][i+1] > df['MA5'][i+1],\\\n",
    "                    df['收盘'][i+1] > df['开盘'][i]]):\n",
    "                buy.append(i+1)\n",
    "                break\n",
    "            elif all([df['收盘'][i+1] > df['MA5'][i+1],\\\n",
    "                     df['收盘'][i+2] > df['MA5'][i+2],\\\n",
    "                     df['收盘'][i+2] > df['开盘'][i]]):\n",
    "                buy.append(i+2)\n",
    "                break\n",
    "            else:\n",
    "                continue\n",
    "        else:\n",
    "            continue\n",
    "    return buy"
   ]
  },
  {
   "cell_type": "code",
   "execution_count": 39,
   "id": "ed69a12a-5e83-47c6-979a-1e57ca2e595f",
   "metadata": {},
   "outputs": [],
   "source": [
    "def sale(b):\n",
    "    b_high = df['最高'][b]*1.02 #盈利线\n",
    "    b_low = b_high*0.9 #止损线\n",
    "    for w in range(b+1,len(df)):\n",
    "        # 收盘价达到盈利线\n",
    "        if df['最高'][w]>b_high:\n",
    "            s = w\n",
    "            b_high = df['最高'][w]\n",
    "            b_low =  b_low = b_high*0.9\n",
    "            continue\n",
    "        # 跌破止损价，卖出\n",
    "        elif all([df['收盘'][w]<b_low,\\\n",
    "                 df['涨跌幅'][w]<-5,]):\n",
    "            s = w\n",
    "            break\n",
    "        else:\n",
    "            s = w\n",
    "            continue\n",
    "    return s  "
   ]
  },
  {
   "cell_type": "code",
   "execution_count": 40,
   "id": "412db70c-90a6-421d-9164-c2699558f8ea",
   "metadata": {},
   "outputs": [
    {
     "name": "stdout",
     "output_type": "stream",
     "text": [
      "[279]\n",
      "买入： 2024-11-29 | 21.78 | 400.0 | 1288.0\n",
      "买出： 2024-12-03 | 18.01 | 0     | 8492.0\n"
     ]
    }
   ],
   "source": [
    "# 交易回测\n",
    "money = 10000\n",
    "b_dt = buy(df)\n",
    "print(b_dt)\n",
    "if not b_dt:\n",
    "    print('无符合条件指标，请更换股票')\n",
    "else:\n",
    "    s_date = df['日期'][1]\n",
    "    for k in range(len(b_dt)):\n",
    "        b = b_dt[k]\n",
    "        if df['日期'][b]>s_date:\n",
    "            #print(str(df['日期'][b]) + ' | ' + str(df['CCI'][b]))\n",
    "            b_sym = float(((money/df['收盘'][b])//100)*100)\n",
    "            money = money-(b_sym*df['收盘'][b])\n",
    "            print('买入： '+ str(df['日期'][b]) + ' | ' + str(df['收盘'][b]) + ' | ' + str(b_sym) + ' | ' + str(money))\n",
    "            s = sale(b)\n",
    "            money = money+(b_sym*df['收盘'][s])\n",
    "            b_sym = 0\n",
    "            s_date = df['日期'][s]\n",
    "            print('买出： '+ str(df['日期'][s]) + ' | ' + str(df['收盘'][s]) + ' | '+ str(b_sym) + '     | ' + str(money))\n",
    "        else:\n",
    "            continue"
   ]
  },
  {
   "cell_type": "markdown",
   "id": "31b679a9-e0cd-4c41-95ce-d7783af6ec7c",
   "metadata": {},
   "source": [
    "##### "
   ]
  },
  {
   "cell_type": "code",
   "execution_count": null,
   "id": "b22ab48a-3120-4fa5-be68-f0d26e22197d",
   "metadata": {},
   "outputs": [],
   "source": []
  }
 ],
 "metadata": {
  "kernelspec": {
   "display_name": "Python 3 (ipykernel)",
   "language": "python",
   "name": "python3"
  },
  "language_info": {
   "codemirror_mode": {
    "name": "ipython",
    "version": 3
   },
   "file_extension": ".py",
   "mimetype": "text/x-python",
   "name": "python",
   "nbconvert_exporter": "python",
   "pygments_lexer": "ipython3",
   "version": "3.13.0"
  }
 },
 "nbformat": 4,
 "nbformat_minor": 5
}
