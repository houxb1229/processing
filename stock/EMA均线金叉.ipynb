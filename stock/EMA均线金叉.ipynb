{
 "cells": [
  {
   "cell_type": "code",
   "execution_count": 1,
   "id": "b08c5abe-2d47-4667-8841-00e037746a1f",
   "metadata": {},
   "outputs": [],
   "source": [
    "import akshare as ak\n",
    "import pandas as pd"
   ]
  },
  {
   "cell_type": "code",
   "execution_count": 26,
   "id": "bf57ee76-fb67-460f-8e86-dae6e007ea11",
   "metadata": {},
   "outputs": [],
   "source": [
    "code = '600746'\n",
    "stock = ak.stock_zh_a_hist(symbol=code, \n",
    "                        period=\"daily\",\n",
    "                        start_date=\"20231001\",\n",
    "                        end_date='20250325', \n",
    "                        adjust=\"\")"
   ]
  },
  {
   "cell_type": "code",
   "execution_count": 27,
   "id": "b52b950c-d704-459f-bcc2-4d7b0f386477",
   "metadata": {},
   "outputs": [
    {
     "data": {
      "text/html": [
       "<div>\n",
       "<style scoped>\n",
       "    .dataframe tbody tr th:only-of-type {\n",
       "        vertical-align: middle;\n",
       "    }\n",
       "\n",
       "    .dataframe tbody tr th {\n",
       "        vertical-align: top;\n",
       "    }\n",
       "\n",
       "    .dataframe thead th {\n",
       "        text-align: right;\n",
       "    }\n",
       "</style>\n",
       "<table border=\"1\" class=\"dataframe\">\n",
       "  <thead>\n",
       "    <tr style=\"text-align: right;\">\n",
       "      <th></th>\n",
       "      <th>日期</th>\n",
       "      <th>股票代码</th>\n",
       "      <th>开盘</th>\n",
       "      <th>收盘</th>\n",
       "      <th>最高</th>\n",
       "      <th>最低</th>\n",
       "      <th>成交量</th>\n",
       "      <th>振幅</th>\n",
       "      <th>涨跌幅</th>\n",
       "      <th>涨跌额</th>\n",
       "      <th>EMA21</th>\n",
       "      <th>EMA55</th>\n",
       "    </tr>\n",
       "  </thead>\n",
       "  <tbody>\n",
       "    <tr>\n",
       "      <th>352</th>\n",
       "      <td>2025-03-21</td>\n",
       "      <td>600746</td>\n",
       "      <td>7.36</td>\n",
       "      <td>7.35</td>\n",
       "      <td>7.46</td>\n",
       "      <td>7.33</td>\n",
       "      <td>37383</td>\n",
       "      <td>1.76</td>\n",
       "      <td>-0.54</td>\n",
       "      <td>-0.04</td>\n",
       "      <td>7.353323</td>\n",
       "      <td>7.233354</td>\n",
       "    </tr>\n",
       "    <tr>\n",
       "      <th>353</th>\n",
       "      <td>2025-03-24</td>\n",
       "      <td>600746</td>\n",
       "      <td>7.31</td>\n",
       "      <td>7.39</td>\n",
       "      <td>7.42</td>\n",
       "      <td>7.28</td>\n",
       "      <td>46524</td>\n",
       "      <td>1.90</td>\n",
       "      <td>0.54</td>\n",
       "      <td>0.04</td>\n",
       "      <td>7.356657</td>\n",
       "      <td>7.238949</td>\n",
       "    </tr>\n",
       "    <tr>\n",
       "      <th>354</th>\n",
       "      <td>2025-03-25</td>\n",
       "      <td>600746</td>\n",
       "      <td>7.36</td>\n",
       "      <td>7.69</td>\n",
       "      <td>7.77</td>\n",
       "      <td>7.36</td>\n",
       "      <td>169363</td>\n",
       "      <td>5.55</td>\n",
       "      <td>4.06</td>\n",
       "      <td>0.30</td>\n",
       "      <td>7.386961</td>\n",
       "      <td>7.255058</td>\n",
       "    </tr>\n",
       "  </tbody>\n",
       "</table>\n",
       "</div>"
      ],
      "text/plain": [
       "             日期    股票代码    开盘    收盘    最高    最低     成交量    振幅   涨跌幅   涨跌额  \\\n",
       "352  2025-03-21  600746  7.36  7.35  7.46  7.33   37383  1.76 -0.54 -0.04   \n",
       "353  2025-03-24  600746  7.31  7.39  7.42  7.28   46524  1.90  0.54  0.04   \n",
       "354  2025-03-25  600746  7.36  7.69  7.77  7.36  169363  5.55  4.06  0.30   \n",
       "\n",
       "        EMA21     EMA55  \n",
       "352  7.353323  7.233354  \n",
       "353  7.356657  7.238949  \n",
       "354  7.386961  7.255058  "
      ]
     },
     "execution_count": 27,
     "metadata": {},
     "output_type": "execute_result"
    }
   ],
   "source": [
    "stock['EMA21'] = stock['收盘'].ewm(span=21, min_periods=0, adjust=False, ignore_na=False).mean()\n",
    "stock['EMA55'] = stock['收盘'].ewm(span=55, min_periods=0, adjust=False, ignore_na=False).mean()\n",
    "stock = stock[['日期','股票代码','开盘','收盘','最高','最低','成交量','振幅','涨跌幅','涨跌额','EMA21','EMA55']]\n",
    "stock.tail(3)"
   ]
  },
  {
   "cell_type": "code",
   "execution_count": 28,
   "id": "822b8a0f-a609-4a6d-b63d-a96dcea9e1ab",
   "metadata": {},
   "outputs": [],
   "source": [
    "df = stock.copy()"
   ]
  },
  {
   "cell_type": "code",
   "execution_count": 29,
   "id": "43c76e37-e9f5-46a7-b251-f64a9236578d",
   "metadata": {},
   "outputs": [],
   "source": [
    "# 入场买点\n",
    "def buy(df):\n",
    "    buy = []\n",
    "    for i in range(65,len(df)-1):\n",
    "        if all ([df['EMA21'][i-1] < df['EMA55'][i-1],\\\n",
    "                df['EMA21'][i] > df['EMA55'][i]]):\n",
    "            buy.append(i)\n",
    "        else:\n",
    "            continue\n",
    "    return buy"
   ]
  },
  {
   "cell_type": "code",
   "execution_count": 30,
   "id": "ed69a12a-5e83-47c6-979a-1e57ca2e595f",
   "metadata": {},
   "outputs": [],
   "source": [
    "def sale(b):\n",
    "    for w in range(b+1,len(df)):\n",
    "        # 完全跌破EMA21\n",
    "        if all([df['开盘'][w]<df['EMA21'][w],\\\n",
    "                df['收盘'][w]<df['EMA21'][w]]):\n",
    "            s = w\n",
    "            break\n",
    "        else:\n",
    "            s = w\n",
    "            continue\n",
    "    return s  "
   ]
  },
  {
   "cell_type": "code",
   "execution_count": 31,
   "id": "412db70c-90a6-421d-9164-c2699558f8ea",
   "metadata": {},
   "outputs": [
    {
     "name": "stdout",
     "output_type": "stream",
     "text": [
      "[123, 239, 324]\n",
      "买入： 2024-04-10 | 6.66 | 1500.0 | 10.0\n",
      "买出： 2024-04-16 | 6.0 | 0     | 9010.0\n",
      "买入： 2024-09-27 | 6.75 | 1300.0 | 235.0\n",
      "买出： 2024-11-15 | 7.05 | 0     | 9400.0\n",
      "买入： 2025-02-11 | 7.47 | 1200.0 | 436.0\n",
      "买出： 2025-03-25 | 7.69 | 0     | 9664.0\n"
     ]
    }
   ],
   "source": [
    "# 交易回测\n",
    "money = 10000\n",
    "b_dt = buy(df)\n",
    "print(b_dt)\n",
    "if not b_dt:\n",
    "    print('无符合条件指标，请更换股票')\n",
    "else:\n",
    "    s_date = df['日期'][1]\n",
    "    for k in range(len(b_dt)):\n",
    "        b = b_dt[k]\n",
    "        if df['日期'][b]>s_date:\n",
    "            #print(str(df['日期'][b]) + ' | ' + str(df['CCI'][b]))\n",
    "            b_sym = float(((money/df['收盘'][b])//100)*100)\n",
    "            money = money-(b_sym*df['收盘'][b])\n",
    "            print('买入： '+ str(df['日期'][b]) + ' | ' + str(df['收盘'][b]) + ' | ' + str(b_sym) + ' | ' + str(money))\n",
    "            s = sale(b)\n",
    "            money = money+(b_sym*df['收盘'][s])\n",
    "            b_sym = 0\n",
    "            s_date = df['日期'][s]\n",
    "            print('买出： '+ str(df['日期'][s]) + ' | ' + str(df['收盘'][s]) + ' | '+ str(b_sym) + '     | ' + str(money))\n",
    "        else:\n",
    "            continue"
   ]
  },
  {
   "cell_type": "markdown",
   "id": "31b679a9-e0cd-4c41-95ce-d7783af6ec7c",
   "metadata": {},
   "source": [
    "##### "
   ]
  },
  {
   "cell_type": "code",
   "execution_count": null,
   "id": "b22ab48a-3120-4fa5-be68-f0d26e22197d",
   "metadata": {},
   "outputs": [],
   "source": []
  }
 ],
 "metadata": {
  "kernelspec": {
   "display_name": "Python 3 (ipykernel)",
   "language": "python",
   "name": "python3"
  },
  "language_info": {
   "codemirror_mode": {
    "name": "ipython",
    "version": 3
   },
   "file_extension": ".py",
   "mimetype": "text/x-python",
   "name": "python",
   "nbconvert_exporter": "python",
   "pygments_lexer": "ipython3",
   "version": "3.13.0"
  }
 },
 "nbformat": 4,
 "nbformat_minor": 5
}
